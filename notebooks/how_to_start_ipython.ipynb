{
 "cells": [
  {
   "cell_type": "markdown",
   "metadata": {},
   "source": [
    "<img src=\"images/csdms_logo.jpg\">"
   ]
  },
  {
   "cell_type": "markdown",
   "metadata": {},
   "source": [
    "# How to connect to an IPython instance on beach\n",
    "\n",
    "If you want to play with some of the examples that we will show in these tutorials, you can connect to **beach** and run them through an iPython notebook. You will need the following installed on your machine:\n",
    "\n",
    "* iPython notebook\n",
    "* ssh"
   ]
  },
  {
   "cell_type": "markdown",
   "metadata": {},
   "source": [
    "## TL;DR\n",
    "\n",
    "Open a terminal and run:\n",
    "\n",
    "```bash\n",
    "localhost> ssh [username@]beach.colorado.edu\n",
    "beach> git clone https://github.com/mcflugen/bmi-tutorial\n",
    "beach> cd bmi-tutorial\n",
    "beach> source scripts/setup-beach.sh\n",
    "beach> ipython notebook --no-browser\n",
    "```\n",
    "\n",
    "Open another terminal and run:\n",
    "\n",
    "```bash\n",
    "localhost> ssh -N -L 8888:localhost:8888 [username@]beach.colorado.edu\n",
    "```\n",
    "\n",
    "Go here: http://localhost:8888\n"
   ]
  },
  {
   "cell_type": "markdown",
   "metadata": {},
   "source": [
    "## The Details\n",
    "\n",
    "First open an ssh connection to the server and start the [IPython notebook](http://ipython.org/notebook.html),\n",
    "\n",
    "```bash\n",
    "localhost> ssh [username@]beach.colorado.edu\n",
    "```\n",
    "\n",
    "If your username on your computer is different than that on beach, you will need to include your username as shown in the above example. You now need to get the tutorial materials from GitHub, set your environment and start the iPython notebook.\n",
    "\n",
    "```bash\n",
    "beach> git clone https://github.com/mcflugen/bmi-tutorial\n",
    "beach> cd bmi-tutorial\n",
    "beach> source scripts/setup-beach.sh\n",
    "beach> ipython notebook --no-browser\n",
    "```\n",
    "\n",
    "Note the port that IPython is running on. IPython will print out a few lines, one of them should look like,\n",
    "\n",
    "```\n",
    "[I 10:24:23.092 NotebookApp] The IPython Notebook is running at: http://localhost:8888/\n",
    "```\n",
    "\n",
    "In this example, IPython is running on port 8888 (the default).\n",
    "\n",
    "To view IPython notebook in you browser, you will need to forward this port to the port IPython is running on on the server. You also do this with ssh,\n",
    "\n",
    "```bash\n",
    "localhost> ssh -N -L 8888:localhost:8888 [username@]beach.colorado.edu\n",
    "```\n",
    "\n",
    "Now to connect to the IPython notebook that's running on the server, point your browser to http://localhost:8888"
   ]
  }
 ],
 "metadata": {
  "kernelspec": {
   "display_name": "Python 2",
   "language": "python",
   "name": "python2"
  },
  "language_info": {
   "codemirror_mode": {
    "name": "ipython",
    "version": 2
   },
   "file_extension": ".py",
   "mimetype": "text/x-python",
   "name": "python",
   "nbconvert_exporter": "python",
   "pygments_lexer": "ipython2",
   "version": "2.7.9"
  }
 },
 "nbformat": 4,
 "nbformat_minor": 0
}
